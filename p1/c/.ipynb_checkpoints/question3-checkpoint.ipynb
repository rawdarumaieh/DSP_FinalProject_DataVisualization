{
 "cells": [
  {
   "cell_type": "code",
   "execution_count": 1,
   "metadata": {},
   "outputs": [],
   "source": [
    "import plotly.express as px\n",
    "import pandas as pd\n",
    "import os\n",
    "import cv2\n",
    "import ipywidgets as widgets\n",
    "from ipywidgets import interact, interactive, fixed, interact_manual,Button, Layout"
   ]
  },
  {
   "cell_type": "code",
   "execution_count": null,
   "metadata": {},
   "outputs": [],
   "source": [
    "df = pd.read_csv(r\"C:\\Users\\rawda rumaieh\\Desktop\\hemn311-2020-final-iiassignment-04_hemn311_20_final\\p1\\c\\total-covid-cases-region.csv\")\n",
    "\n",
    "fig = px.bar(df, x=\"Entity\", y=\"Total confirmed cases of COVID-19 (cases)\", color=\"Entity\",\n",
    "  animation_frame=\"Date\", animation_group=\"Entity\", range_y=[0,2000000])\n",
    "fig.show()\n",
    "export_to_video= Button(\n",
    "    description='export to a video')\n",
    "export_to_video.style.button_color = 'lightpink'\n",
    "                        \n",
    "def export(a):\n",
    "    \n",
    "    image_folder = 'question3pics'\n",
    "    video_name = 'question3video.avi'\n",
    "\n",
    "    images = [img for img in os.listdir(image_folder) if img.endswith(\".png\")]\n",
    "    frame = cv2.imread(os.path.join(image_folder, images[0]))\n",
    "    height, width, layers = frame.shape\n",
    "    images.sort()\n",
    "    video = cv2.VideoWriter(video_name, 0, 1, (width,height))\n",
    "\n",
    "    for image in images:\n",
    "        video.write(cv2.imread(os.path.join(image_folder, image)))\n",
    "\n",
    "    cv2.destroyAllWindows()\n",
    "    video.release()\n",
    "\n",
    "export_to_video.on_click(export)\n",
    "export_to_video\n",
    "\n"
   ]
  }
 ],
 "metadata": {
  "kernelspec": {
   "display_name": "Python 3",
   "language": "python",
   "name": "python3"
  },
  "language_info": {
   "codemirror_mode": {
    "name": "ipython",
    "version": 3
   },
   "file_extension": ".py",
   "mimetype": "text/x-python",
   "name": "python",
   "nbconvert_exporter": "python",
   "pygments_lexer": "ipython3",
   "version": "3.7.4"
  }
 },
 "nbformat": 4,
 "nbformat_minor": 2
}
